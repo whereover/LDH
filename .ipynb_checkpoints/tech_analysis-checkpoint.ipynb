{
 "cells": [
  {
   "cell_type": "code",
   "execution_count": null,
   "metadata": {},
   "outputs": [],
   "source": [
    "import csv, pandas as pd\n",
    "\n",
    "# Read data from CSV into dataframe df\n",
    "df = pd.read_csv('crunchbase_txt.csv', na_values=[''])"
   ]
  },
  {
   "cell_type": "code",
   "execution_count": null,
   "metadata": {},
   "outputs": [],
   "source": [
    "df.columns"
   ]
  },
  {
   "cell_type": "code",
   "execution_count": null,
   "metadata": {},
   "outputs": [],
   "source": [
    "# Take rows where total funding is not null\n",
    "df = df[pd.notnull(df['funding_total_usd'])]\n",
    "\n",
    "# Take rows where category not null and assign to new dataframe\n",
    "df_category = df[pd.notnull(df['category_group_list'])]\n",
    "\n",
    "# Take rows where country is not null and assign to a new dataframe\n",
    "df_country = df[pd.notnull(df['country_code'])]\n",
    "\n",
    "# Take rows where date of founding isn't null and assign it to a new dataframe\n",
    "df_founding = df[pd.notnull(df['founded_on'])]\n",
    "\n",
    "# df_founding"
   ]
  },
  {
   "cell_type": "code",
   "execution_count": null,
   "metadata": {},
   "outputs": [],
   "source": [
    "def getFunding(fundingStr):\n",
    "    fundingStr = fundingStr.strip()\n",
    "    fundingStr = fundingStr.replace(',', '')\n",
    "    return int(fundingStr)\n"
   ]
  },
  {
   "cell_type": "code",
   "execution_count": null,
   "metadata": {
    "collapsed": true
   },
   "outputs": [],
   "source": [
    "# for index, row in df.iterrows():\n",
    "#    print(row['funding_total_usd'], row['founded_on'])\n",
    "\n",
    "# Instantiate each unique country code to have value 0\n",
    "countries = {}\n",
    "country_count = {}\n",
    "for country in df_country.country_code.unique():\n",
    "    countries[country] = 0;\n",
    "    country_count[country] = 0;"
   ]
  },
  {
   "cell_type": "code",
   "execution_count": null,
   "metadata": {},
   "outputs": [],
   "source": [
    "# Sum total funding for all countries\n",
    "for index, row in df_country.iterrows():\n",
    "    fundingInt = getFunding(row['funding_total_usd'])\n",
    "    countries[row['country_code']] += fundingInt\n",
    "    country_count[row['country_code']] += 1\n",
    "    \n",
    "# Compute averages\n",
    "for key, value in countries.items():\n",
    "    countries[key] = (countries[key] / country_count[key])\n",
    "    \n",
    "# Print averages\n",
    "print(\"Average funding for each country:\\n\")\n",
    "for key, value in countries.items():\n",
    "    print(key, value)"
   ]
  },
  {
   "cell_type": "code",
   "execution_count": null,
   "metadata": {},
   "outputs": [],
   "source": [
    "# Initialize funding totals to zero for all categories\n",
    "categories = {}\n",
    "category_count = {}\n",
    "for catList in df_category.category_group_list:\n",
    "    cats = catList.split('|')\n",
    "    for cat in cats:\n",
    "        categories[cat] = 0\n",
    "        category_count[cat] = 0"
   ]
  },
  {
   "cell_type": "code",
   "execution_count": null,
   "metadata": {},
   "outputs": [],
   "source": [
    "# Sum total funding for all categories\n",
    "for index, row in df_category.iterrows():\n",
    "    catsList = row['category_group_list']\n",
    "    cats = catsList.split('|')\n",
    "    fundingStr = row['funding_total_usd']\n",
    "    fundingStr = fundingStr.strip()\n",
    "    fundingStr = fundingStr.replace(',', '')\n",
    "    for cat in cats:\n",
    "        categories[cat] += int(fundingStr)\n",
    "        category_count[cat] += 1\n",
    "        \n",
    "# Compute averages\n",
    "for key, value in categories.items():\n",
    "    categories[key] = (categories[key] / category_count[key])\n",
    "    \n",
    "# Print averages\n",
    "print(\"Average funding for each country:\\n\")\n",
    "for key, value in categories.items():\n",
    "    print(key, value)"
   ]
  },
  {
   "cell_type": "code",
   "execution_count": null,
   "metadata": {},
   "outputs": [],
   "source": [
    "years = {}\n",
    "for date in df_founding.founded_on:\n",
    "    print(date)"
   ]
  }
 ],
 "metadata": {
  "kernelspec": {
   "display_name": "Python 3",
   "language": "python",
   "name": "python3"
  },
  "language_info": {
   "codemirror_mode": {
    "name": "ipython",
    "version": 3
   },
   "file_extension": ".py",
   "mimetype": "text/x-python",
   "name": "python",
   "nbconvert_exporter": "python",
   "pygments_lexer": "ipython3",
   "version": "3.5.2"
  }
 },
 "nbformat": 4,
 "nbformat_minor": 2
}
